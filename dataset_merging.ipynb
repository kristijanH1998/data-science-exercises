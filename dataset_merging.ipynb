{
 "cells": [
  {
   "cell_type": "code",
   "execution_count": 2,
   "id": "9d0b53c4-a58c-4a32-8935-75ca854a0921",
   "metadata": {},
   "outputs": [],
   "source": [
    "import pandas as pd\n",
    "import numpy as np\n",
    "\n",
    "class display(object):\n",
    "    \"\"\"Display HTML representation of multiple objects\"\"\"\n",
    "    template = \"\"\"<div style=\"float: left; padding: 10px;\">\n",
    "    <p style='font-family:\"Courier New\", Courier, monospace'>{0}</p>{1}\n",
    "    </div>\"\"\"\n",
    "    def __init__(self, *args):\n",
    "        self.args = args\n",
    "        \n",
    "    def _repr_html_(self):\n",
    "        return '\\n'.join(self.template.format(a, eval(a)._repr_html_())\n",
    "                         for a in self.args)\n",
    "    \n",
    "    def __repr__(self):\n",
    "        return '\\n\\n'.join(a + '\\n' + repr(eval(a))\n",
    "                           for a in self.args)"
   ]
  },
  {
   "cell_type": "code",
   "execution_count": 4,
   "id": "0ad37be1-b7ea-43e2-ab10-3dbb69066f4b",
   "metadata": {},
   "outputs": [
    {
     "data": {
      "text/html": [
       "<div style=\"float: left; padding: 10px;\">\n",
       "    <p style='font-family:\"Courier New\", Courier, monospace'>df1</p><div>\n",
       "<style scoped>\n",
       "    .dataframe tbody tr th:only-of-type {\n",
       "        vertical-align: middle;\n",
       "    }\n",
       "\n",
       "    .dataframe tbody tr th {\n",
       "        vertical-align: top;\n",
       "    }\n",
       "\n",
       "    .dataframe thead th {\n",
       "        text-align: right;\n",
       "    }\n",
       "</style>\n",
       "<table border=\"1\" class=\"dataframe\">\n",
       "  <thead>\n",
       "    <tr style=\"text-align: right;\">\n",
       "      <th></th>\n",
       "      <th>employee</th>\n",
       "      <th>group</th>\n",
       "    </tr>\n",
       "  </thead>\n",
       "  <tbody>\n",
       "    <tr>\n",
       "      <th>0</th>\n",
       "      <td>Bob</td>\n",
       "      <td>Accounting</td>\n",
       "    </tr>\n",
       "    <tr>\n",
       "      <th>1</th>\n",
       "      <td>Jake</td>\n",
       "      <td>Engineering</td>\n",
       "    </tr>\n",
       "    <tr>\n",
       "      <th>2</th>\n",
       "      <td>Lisa</td>\n",
       "      <td>Engineering</td>\n",
       "    </tr>\n",
       "    <tr>\n",
       "      <th>3</th>\n",
       "      <td>Sue</td>\n",
       "      <td>HR</td>\n",
       "    </tr>\n",
       "  </tbody>\n",
       "</table>\n",
       "</div>\n",
       "    </div>\n",
       "<div style=\"float: left; padding: 10px;\">\n",
       "    <p style='font-family:\"Courier New\", Courier, monospace'>df2</p><div>\n",
       "<style scoped>\n",
       "    .dataframe tbody tr th:only-of-type {\n",
       "        vertical-align: middle;\n",
       "    }\n",
       "\n",
       "    .dataframe tbody tr th {\n",
       "        vertical-align: top;\n",
       "    }\n",
       "\n",
       "    .dataframe thead th {\n",
       "        text-align: right;\n",
       "    }\n",
       "</style>\n",
       "<table border=\"1\" class=\"dataframe\">\n",
       "  <thead>\n",
       "    <tr style=\"text-align: right;\">\n",
       "      <th></th>\n",
       "      <th>employee</th>\n",
       "      <th>hire_date</th>\n",
       "    </tr>\n",
       "  </thead>\n",
       "  <tbody>\n",
       "    <tr>\n",
       "      <th>0</th>\n",
       "      <td>Lisa</td>\n",
       "      <td>2004</td>\n",
       "    </tr>\n",
       "    <tr>\n",
       "      <th>1</th>\n",
       "      <td>Bob</td>\n",
       "      <td>2008</td>\n",
       "    </tr>\n",
       "    <tr>\n",
       "      <th>2</th>\n",
       "      <td>Jake</td>\n",
       "      <td>2012</td>\n",
       "    </tr>\n",
       "    <tr>\n",
       "      <th>3</th>\n",
       "      <td>Sue</td>\n",
       "      <td>2014</td>\n",
       "    </tr>\n",
       "  </tbody>\n",
       "</table>\n",
       "</div>\n",
       "    </div>"
      ],
      "text/plain": [
       "df1\n",
       "  employee        group\n",
       "0      Bob   Accounting\n",
       "1     Jake  Engineering\n",
       "2     Lisa  Engineering\n",
       "3      Sue           HR\n",
       "\n",
       "df2\n",
       "  employee  hire_date\n",
       "0     Lisa       2004\n",
       "1      Bob       2008\n",
       "2     Jake       2012\n",
       "3      Sue       2014"
      ]
     },
     "execution_count": 4,
     "metadata": {},
     "output_type": "execute_result"
    }
   ],
   "source": [
    "df1 = pd.DataFrame({'employee': ['Bob', 'Jake', 'Lisa', 'Sue'],\n",
    "                    'group': ['Accounting', 'Engineering', 'Engineering', 'HR']})\n",
    "df2 = pd.DataFrame({'employee': ['Lisa', 'Bob', 'Jake', 'Sue'],\n",
    "                    'hire_date': [2004, 2008, 2012, 2014]})\n",
    "display('df1', 'df2')"
   ]
  },
  {
   "cell_type": "code",
   "execution_count": 5,
   "id": "e99b9540-f0c0-40de-8a22-6970c1407651",
   "metadata": {},
   "outputs": [],
   "source": [
    "df3 = pd.merge(df1, df2)"
   ]
  },
  {
   "cell_type": "code",
   "execution_count": 6,
   "id": "4a6c046f-b278-4dcd-b2d9-b21f477c24ee",
   "metadata": {},
   "outputs": [
    {
     "data": {
      "text/html": [
       "<div>\n",
       "<style scoped>\n",
       "    .dataframe tbody tr th:only-of-type {\n",
       "        vertical-align: middle;\n",
       "    }\n",
       "\n",
       "    .dataframe tbody tr th {\n",
       "        vertical-align: top;\n",
       "    }\n",
       "\n",
       "    .dataframe thead th {\n",
       "        text-align: right;\n",
       "    }\n",
       "</style>\n",
       "<table border=\"1\" class=\"dataframe\">\n",
       "  <thead>\n",
       "    <tr style=\"text-align: right;\">\n",
       "      <th></th>\n",
       "      <th>employee</th>\n",
       "      <th>group</th>\n",
       "      <th>hire_date</th>\n",
       "    </tr>\n",
       "  </thead>\n",
       "  <tbody>\n",
       "    <tr>\n",
       "      <th>0</th>\n",
       "      <td>Bob</td>\n",
       "      <td>Accounting</td>\n",
       "      <td>2008</td>\n",
       "    </tr>\n",
       "    <tr>\n",
       "      <th>1</th>\n",
       "      <td>Jake</td>\n",
       "      <td>Engineering</td>\n",
       "      <td>2012</td>\n",
       "    </tr>\n",
       "    <tr>\n",
       "      <th>2</th>\n",
       "      <td>Lisa</td>\n",
       "      <td>Engineering</td>\n",
       "      <td>2004</td>\n",
       "    </tr>\n",
       "    <tr>\n",
       "      <th>3</th>\n",
       "      <td>Sue</td>\n",
       "      <td>HR</td>\n",
       "      <td>2014</td>\n",
       "    </tr>\n",
       "  </tbody>\n",
       "</table>\n",
       "</div>"
      ],
      "text/plain": [
       "  employee        group  hire_date\n",
       "0      Bob   Accounting       2008\n",
       "1     Jake  Engineering       2012\n",
       "2     Lisa  Engineering       2004\n",
       "3      Sue           HR       2014"
      ]
     },
     "execution_count": 6,
     "metadata": {},
     "output_type": "execute_result"
    }
   ],
   "source": [
    "df3"
   ]
  },
  {
   "cell_type": "code",
   "execution_count": 7,
   "id": "87341e79-3e59-4bb9-befa-5f782bb91f31",
   "metadata": {},
   "outputs": [
    {
     "data": {
      "text/html": [
       "<div>\n",
       "<style scoped>\n",
       "    .dataframe tbody tr th:only-of-type {\n",
       "        vertical-align: middle;\n",
       "    }\n",
       "\n",
       "    .dataframe tbody tr th {\n",
       "        vertical-align: top;\n",
       "    }\n",
       "\n",
       "    .dataframe thead th {\n",
       "        text-align: right;\n",
       "    }\n",
       "</style>\n",
       "<table border=\"1\" class=\"dataframe\">\n",
       "  <thead>\n",
       "    <tr style=\"text-align: right;\">\n",
       "      <th></th>\n",
       "      <th>employee</th>\n",
       "      <th>group</th>\n",
       "    </tr>\n",
       "  </thead>\n",
       "  <tbody>\n",
       "    <tr>\n",
       "      <th>0</th>\n",
       "      <td>Bob</td>\n",
       "      <td>Accounting</td>\n",
       "    </tr>\n",
       "    <tr>\n",
       "      <th>1</th>\n",
       "      <td>Jake</td>\n",
       "      <td>Engineering</td>\n",
       "    </tr>\n",
       "    <tr>\n",
       "      <th>2</th>\n",
       "      <td>Lisa</td>\n",
       "      <td>Engineering</td>\n",
       "    </tr>\n",
       "    <tr>\n",
       "      <th>3</th>\n",
       "      <td>Sue</td>\n",
       "      <td>HR</td>\n",
       "    </tr>\n",
       "  </tbody>\n",
       "</table>\n",
       "</div>"
      ],
      "text/plain": [
       "  employee        group\n",
       "0      Bob   Accounting\n",
       "1     Jake  Engineering\n",
       "2     Lisa  Engineering\n",
       "3      Sue           HR"
      ]
     },
     "execution_count": 7,
     "metadata": {},
     "output_type": "execute_result"
    }
   ],
   "source": [
    "df1"
   ]
  },
  {
   "cell_type": "code",
   "execution_count": 151,
   "id": "2c677934-f921-4957-a788-48dc42f6c29d",
   "metadata": {},
   "outputs": [],
   "source": [
    "ds1 = pd.DataFrame({'month_year':[201801, 201802, 201803, 201804], 'loan_type':['30ARM', '30ARM', '30ARM', '30ARM'], 'number_of_accounts':[1234567, 1234894, 1245123, 1244200], 'number_of_past_due_accounts':[2987, 2995, 2989, 2897], 'outstanding_balance':[1.533, 1.645, 1.785, 1.435]})"
   ]
  },
  {
   "cell_type": "code",
   "execution_count": 27,
   "id": "3a1e1c26-47d6-45b6-b5aa-aa87c400ee49",
   "metadata": {},
   "outputs": [
    {
     "data": {
      "text/html": [
       "<div style=\"float: left; padding: 10px;\">\n",
       "    <p style='font-family:\"Courier New\", Courier, monospace'>ds1</p><div>\n",
       "<style scoped>\n",
       "    .dataframe tbody tr th:only-of-type {\n",
       "        vertical-align: middle;\n",
       "    }\n",
       "\n",
       "    .dataframe tbody tr th {\n",
       "        vertical-align: top;\n",
       "    }\n",
       "\n",
       "    .dataframe thead th {\n",
       "        text-align: right;\n",
       "    }\n",
       "</style>\n",
       "<table border=\"1\" class=\"dataframe\">\n",
       "  <thead>\n",
       "    <tr style=\"text-align: right;\">\n",
       "      <th></th>\n",
       "      <th>month_year</th>\n",
       "      <th>loan_type</th>\n",
       "      <th>number_of_accounts</th>\n",
       "      <th>number_of_past_due_accounts</th>\n",
       "      <th>outstanding_balance</th>\n",
       "    </tr>\n",
       "  </thead>\n",
       "  <tbody>\n",
       "    <tr>\n",
       "      <th>0</th>\n",
       "      <td>201801</td>\n",
       "      <td>30ARM</td>\n",
       "      <td>1234567</td>\n",
       "      <td>2987</td>\n",
       "      <td>1.533</td>\n",
       "    </tr>\n",
       "    <tr>\n",
       "      <th>1</th>\n",
       "      <td>201802</td>\n",
       "      <td>30ARM</td>\n",
       "      <td>1234894</td>\n",
       "      <td>2995</td>\n",
       "      <td>1.645</td>\n",
       "    </tr>\n",
       "    <tr>\n",
       "      <th>2</th>\n",
       "      <td>201803</td>\n",
       "      <td>30ARM</td>\n",
       "      <td>1245123</td>\n",
       "      <td>2989</td>\n",
       "      <td>1.785</td>\n",
       "    </tr>\n",
       "    <tr>\n",
       "      <th>3</th>\n",
       "      <td>201804</td>\n",
       "      <td>30ARM</td>\n",
       "      <td>1244200</td>\n",
       "      <td>2897</td>\n",
       "      <td>1.435</td>\n",
       "    </tr>\n",
       "  </tbody>\n",
       "</table>\n",
       "</div>\n",
       "    </div>"
      ],
      "text/plain": [
       "ds1\n",
       "   month_year loan_type  number_of_accounts  number_of_past_due_accounts  \\\n",
       "0      201801     30ARM             1234567                         2987   \n",
       "1      201802     30ARM             1234894                         2995   \n",
       "2      201803     30ARM             1245123                         2989   \n",
       "3      201804     30ARM             1244200                         2897   \n",
       "\n",
       "   outstanding_balance  \n",
       "0                1.533  \n",
       "1                1.645  \n",
       "2                1.785  \n",
       "3                1.435  "
      ]
     },
     "execution_count": 27,
     "metadata": {},
     "output_type": "execute_result"
    }
   ],
   "source": [
    "display('ds1')"
   ]
  },
  {
   "cell_type": "code",
   "execution_count": 26,
   "id": "05194fd7-41f0-4c88-9eed-482cc495c744",
   "metadata": {},
   "outputs": [],
   "source": [
    "ds2 = pd.DataFrame({'month_year':[201801, 201802, 201803, 201804], 'loan_type':['30ARM', '30ARM', '30ARM', '30ARM'], 'number_of_accounts':[1234567, 1234894, 1245100, 1244227], 'number_of_past_due_accounts':[2987, 2995, 2989, 2897], 'outstanding_balance':[1533256, 1645368, 1785258, 1435122]})"
   ]
  },
  {
   "cell_type": "code",
   "execution_count": 28,
   "id": "627312d4-05fb-45ba-b3af-e1608f9b0dbc",
   "metadata": {},
   "outputs": [
    {
     "data": {
      "text/html": [
       "<div>\n",
       "<style scoped>\n",
       "    .dataframe tbody tr th:only-of-type {\n",
       "        vertical-align: middle;\n",
       "    }\n",
       "\n",
       "    .dataframe tbody tr th {\n",
       "        vertical-align: top;\n",
       "    }\n",
       "\n",
       "    .dataframe thead th {\n",
       "        text-align: right;\n",
       "    }\n",
       "</style>\n",
       "<table border=\"1\" class=\"dataframe\">\n",
       "  <thead>\n",
       "    <tr style=\"text-align: right;\">\n",
       "      <th></th>\n",
       "      <th>month_year</th>\n",
       "      <th>loan_type</th>\n",
       "      <th>number_of_accounts</th>\n",
       "      <th>number_of_past_due_accounts</th>\n",
       "      <th>outstanding_balance</th>\n",
       "    </tr>\n",
       "  </thead>\n",
       "  <tbody>\n",
       "    <tr>\n",
       "      <th>0</th>\n",
       "      <td>201801</td>\n",
       "      <td>30ARM</td>\n",
       "      <td>1234567</td>\n",
       "      <td>2987</td>\n",
       "      <td>1533256</td>\n",
       "    </tr>\n",
       "    <tr>\n",
       "      <th>1</th>\n",
       "      <td>201802</td>\n",
       "      <td>30ARM</td>\n",
       "      <td>1234894</td>\n",
       "      <td>2995</td>\n",
       "      <td>1645368</td>\n",
       "    </tr>\n",
       "    <tr>\n",
       "      <th>2</th>\n",
       "      <td>201803</td>\n",
       "      <td>30ARM</td>\n",
       "      <td>1245100</td>\n",
       "      <td>2989</td>\n",
       "      <td>1785258</td>\n",
       "    </tr>\n",
       "    <tr>\n",
       "      <th>3</th>\n",
       "      <td>201804</td>\n",
       "      <td>30ARM</td>\n",
       "      <td>1244227</td>\n",
       "      <td>2897</td>\n",
       "      <td>1435122</td>\n",
       "    </tr>\n",
       "  </tbody>\n",
       "</table>\n",
       "</div>"
      ],
      "text/plain": [
       "   month_year loan_type  number_of_accounts  number_of_past_due_accounts  \\\n",
       "0      201801     30ARM             1234567                         2987   \n",
       "1      201802     30ARM             1234894                         2995   \n",
       "2      201803     30ARM             1245100                         2989   \n",
       "3      201804     30ARM             1244227                         2897   \n",
       "\n",
       "   outstanding_balance  \n",
       "0              1533256  \n",
       "1              1645368  \n",
       "2              1785258  \n",
       "3              1435122  "
      ]
     },
     "execution_count": 28,
     "metadata": {},
     "output_type": "execute_result"
    }
   ],
   "source": [
    "ds2"
   ]
  },
  {
   "cell_type": "code",
   "execution_count": 31,
   "id": "fd5e334b-f524-4c32-a261-d2ce3164ae20",
   "metadata": {},
   "outputs": [
    {
     "data": {
      "text/plain": [
       "False"
      ]
     },
     "execution_count": 31,
     "metadata": {},
     "output_type": "execute_result"
    }
   ],
   "source": [
    "ds1.equals(ds2)"
   ]
  },
  {
   "cell_type": "code",
   "execution_count": 39,
   "id": "d0bd7c72-b011-4e44-b90d-d16640f09006",
   "metadata": {},
   "outputs": [],
   "source": [
    "ds2['outstanding_balance'] = ds2['outstanding_balance'].astype(float)"
   ]
  },
  {
   "cell_type": "code",
   "execution_count": 42,
   "id": "149df6e5-b6d5-4d27-9b8a-87a7b4a35658",
   "metadata": {},
   "outputs": [
    {
     "data": {
      "text/html": [
       "<div>\n",
       "<style scoped>\n",
       "    .dataframe tbody tr th:only-of-type {\n",
       "        vertical-align: middle;\n",
       "    }\n",
       "\n",
       "    .dataframe tbody tr th {\n",
       "        vertical-align: top;\n",
       "    }\n",
       "\n",
       "    .dataframe thead th {\n",
       "        text-align: right;\n",
       "    }\n",
       "</style>\n",
       "<table border=\"1\" class=\"dataframe\">\n",
       "  <thead>\n",
       "    <tr style=\"text-align: right;\">\n",
       "      <th></th>\n",
       "      <th>month_year</th>\n",
       "      <th>loan_type</th>\n",
       "      <th>number_of_accounts</th>\n",
       "      <th>number_of_past_due_accounts</th>\n",
       "      <th>outstanding_balance</th>\n",
       "    </tr>\n",
       "  </thead>\n",
       "  <tbody>\n",
       "    <tr>\n",
       "      <th>0</th>\n",
       "      <td>201801</td>\n",
       "      <td>30ARM</td>\n",
       "      <td>1234567</td>\n",
       "      <td>2987</td>\n",
       "      <td>1533256.0</td>\n",
       "    </tr>\n",
       "    <tr>\n",
       "      <th>1</th>\n",
       "      <td>201802</td>\n",
       "      <td>30ARM</td>\n",
       "      <td>1234894</td>\n",
       "      <td>2995</td>\n",
       "      <td>1645368.0</td>\n",
       "    </tr>\n",
       "    <tr>\n",
       "      <th>2</th>\n",
       "      <td>201803</td>\n",
       "      <td>30ARM</td>\n",
       "      <td>1245100</td>\n",
       "      <td>2989</td>\n",
       "      <td>1785258.0</td>\n",
       "    </tr>\n",
       "    <tr>\n",
       "      <th>3</th>\n",
       "      <td>201804</td>\n",
       "      <td>30ARM</td>\n",
       "      <td>1244227</td>\n",
       "      <td>2897</td>\n",
       "      <td>1435122.0</td>\n",
       "    </tr>\n",
       "  </tbody>\n",
       "</table>\n",
       "</div>"
      ],
      "text/plain": [
       "   month_year loan_type  number_of_accounts  number_of_past_due_accounts  \\\n",
       "0      201801     30ARM             1234567                         2987   \n",
       "1      201802     30ARM             1234894                         2995   \n",
       "2      201803     30ARM             1245100                         2989   \n",
       "3      201804     30ARM             1244227                         2897   \n",
       "\n",
       "   outstanding_balance  \n",
       "0            1533256.0  \n",
       "1            1645368.0  \n",
       "2            1785258.0  \n",
       "3            1435122.0  "
      ]
     },
     "execution_count": 42,
     "metadata": {},
     "output_type": "execute_result"
    }
   ],
   "source": [
    "ds2"
   ]
  },
  {
   "cell_type": "code",
   "execution_count": 64,
   "id": "ea5ac969-7dec-46b5-9bcd-49ed36dbdb73",
   "metadata": {},
   "outputs": [],
   "source": [
    "ds3 = pd.merge(ds1, ds2, how='outer', on=['month_year', 'loan_type'])"
   ]
  },
  {
   "cell_type": "code",
   "execution_count": 65,
   "id": "b06d8a9f-0cce-45f7-a796-d86a801358e8",
   "metadata": {},
   "outputs": [
    {
     "data": {
      "text/html": [
       "<div>\n",
       "<style scoped>\n",
       "    .dataframe tbody tr th:only-of-type {\n",
       "        vertical-align: middle;\n",
       "    }\n",
       "\n",
       "    .dataframe tbody tr th {\n",
       "        vertical-align: top;\n",
       "    }\n",
       "\n",
       "    .dataframe thead th {\n",
       "        text-align: right;\n",
       "    }\n",
       "</style>\n",
       "<table border=\"1\" class=\"dataframe\">\n",
       "  <thead>\n",
       "    <tr style=\"text-align: right;\">\n",
       "      <th></th>\n",
       "      <th>month_year</th>\n",
       "      <th>loan_type</th>\n",
       "      <th>number_of_accounts_x</th>\n",
       "      <th>number_of_past_due_accounts_x</th>\n",
       "      <th>outstanding_balance_x</th>\n",
       "      <th>number_of_accounts_y</th>\n",
       "      <th>number_of_past_due_accounts_y</th>\n",
       "      <th>outstanding_balance_y</th>\n",
       "    </tr>\n",
       "  </thead>\n",
       "  <tbody>\n",
       "    <tr>\n",
       "      <th>0</th>\n",
       "      <td>201801</td>\n",
       "      <td>30ARM</td>\n",
       "      <td>1234567</td>\n",
       "      <td>2987</td>\n",
       "      <td>1.533</td>\n",
       "      <td>1234567</td>\n",
       "      <td>2987</td>\n",
       "      <td>1533256.0</td>\n",
       "    </tr>\n",
       "    <tr>\n",
       "      <th>1</th>\n",
       "      <td>201802</td>\n",
       "      <td>30ARM</td>\n",
       "      <td>1234894</td>\n",
       "      <td>2995</td>\n",
       "      <td>1.645</td>\n",
       "      <td>1234894</td>\n",
       "      <td>2995</td>\n",
       "      <td>1645368.0</td>\n",
       "    </tr>\n",
       "    <tr>\n",
       "      <th>2</th>\n",
       "      <td>201803</td>\n",
       "      <td>30ARM</td>\n",
       "      <td>1245123</td>\n",
       "      <td>2989</td>\n",
       "      <td>1.785</td>\n",
       "      <td>1245100</td>\n",
       "      <td>2989</td>\n",
       "      <td>1785258.0</td>\n",
       "    </tr>\n",
       "    <tr>\n",
       "      <th>3</th>\n",
       "      <td>201804</td>\n",
       "      <td>30ARM</td>\n",
       "      <td>1244200</td>\n",
       "      <td>2897</td>\n",
       "      <td>1.435</td>\n",
       "      <td>1244227</td>\n",
       "      <td>2897</td>\n",
       "      <td>1435122.0</td>\n",
       "    </tr>\n",
       "  </tbody>\n",
       "</table>\n",
       "</div>"
      ],
      "text/plain": [
       "   month_year loan_type  number_of_accounts_x  number_of_past_due_accounts_x  \\\n",
       "0      201801     30ARM               1234567                           2987   \n",
       "1      201802     30ARM               1234894                           2995   \n",
       "2      201803     30ARM               1245123                           2989   \n",
       "3      201804     30ARM               1244200                           2897   \n",
       "\n",
       "   outstanding_balance_x  number_of_accounts_y  number_of_past_due_accounts_y  \\\n",
       "0                  1.533               1234567                           2987   \n",
       "1                  1.645               1234894                           2995   \n",
       "2                  1.785               1245100                           2989   \n",
       "3                  1.435               1244227                           2897   \n",
       "\n",
       "   outstanding_balance_y  \n",
       "0              1533256.0  \n",
       "1              1645368.0  \n",
       "2              1785258.0  \n",
       "3              1435122.0  "
      ]
     },
     "execution_count": 65,
     "metadata": {},
     "output_type": "execute_result"
    }
   ],
   "source": [
    "ds3"
   ]
  },
  {
   "cell_type": "code",
   "execution_count": 153,
   "id": "d575fd34-2004-44ba-a504-9b1b4e2e302b",
   "metadata": {},
   "outputs": [
    {
     "name": "stdout",
     "output_type": "stream",
     "text": [
      "   month_year_x loan_type_x  number_of_accounts_x  \\\n",
      "0        201801       30ARM               1234567   \n",
      "1        201802       30ARM               1234894   \n",
      "2        201803       30ARM               1245123   \n",
      "3        201804       30ARM               1244200   \n",
      "\n",
      "   number_of_past_due_accounts_x  outstanding_balance_x  month_year_y  \\\n",
      "0                           2987                  1.533        201801   \n",
      "1                           2995                  1.645        201802   \n",
      "2                           2989                  1.785        201803   \n",
      "3                           2897                  1.435        201804   \n",
      "\n",
      "  loan_type_y  number_of_accounts_y  number_of_past_due_accounts_y  \\\n",
      "0       30ARM               1234567                           2987   \n",
      "1       30ARM               1234894                           2995   \n",
      "2       30ARM               1245100                           2989   \n",
      "3       30ARM               1244227                           2897   \n",
      "\n",
      "   outstanding_balance_y  \n",
      "0              1533256.0  \n",
      "1              1645368.0  \n",
      "2              1785258.0  \n",
      "3              1435122.0  \n"
     ]
    }
   ],
   "source": [
    "# more comprehensive merge\n",
    "#print(pd.merge(ds1, ds2, how='outer', left_index=True, right_index=True))\n",
    "ds_merge = pd.merge(ds1, ds2, how='outer', left_index=True, right_index=True)\n",
    "print(ds_merge)"
   ]
  },
  {
   "cell_type": "code",
   "execution_count": 154,
   "id": "931fba92-7881-40d3-a1f3-3638a109cbb6",
   "metadata": {},
   "outputs": [],
   "source": [
    "#shows values in rows from two data sets that are different for same columns \n",
    "def rows_with_diff_vals(df1, df2):\n",
    "    # if there is any difference between ds1 and ds2 data sets, proceed with the\n",
    "    # algorithm \n",
    "    if not ds1.equals(ds2):\n",
    "        if df1.columns.tolist() != df2.columns.tolist():\n",
    "            raise ValueError(\"data frames with different column names!\")\n",
    "        diff_val_cols = []\n",
    "        for col in df1.columns:\n",
    "            if not df1[col].equals(df2[col]):\n",
    "                diff_val_cols.append(col)\n",
    "        diff_cols_1 = df1[diff_val_cols]\n",
    "        diff_cols_2 = df2[diff_val_cols]\n",
    "        diff_rows = diff_cols_1.compare(diff_cols_2)\n",
    "        return diff_rows\n"
   ]
  },
  {
   "cell_type": "code",
   "execution_count": 155,
   "id": "184719e7-ea5a-4cc7-940d-fc15362b77e3",
   "metadata": {},
   "outputs": [
    {
     "name": "stdout",
     "output_type": "stream",
     "text": [
      "  number_of_accounts            outstanding_balance           \n",
      "                self      other                self      other\n",
      "0                NaN        NaN               1.533  1533256.0\n",
      "1                NaN        NaN               1.645  1645368.0\n",
      "2          1245123.0  1245100.0               1.785  1785258.0\n",
      "3          1244200.0  1244227.0               1.435  1435122.0\n"
     ]
    }
   ],
   "source": [
    "print(rows_with_diff_vals(ds1, ds2))"
   ]
  },
  {
   "cell_type": "code",
   "execution_count": 113,
   "id": "acbbcefd-7ea0-41f3-970b-83707d30ba31",
   "metadata": {},
   "outputs": [
    {
     "name": "stdout",
     "output_type": "stream",
     "text": [
      "   number_of_accounts_ds1  outstanding_balance_ds1  number_of_accounts_ds2  \\\n",
      "0                 1234567                    1.533                 1234567   \n",
      "1                 1234894                    1.645                 1234894   \n",
      "2                 1245123                    1.785                 1245100   \n",
      "3                 1244200                    1.435                 1244227   \n",
      "\n",
      "   outstanding_balance_ds2  \n",
      "0                1533256.0  \n",
      "1                1645368.0  \n",
      "2                1785258.0  \n",
      "3                1435122.0  \n"
     ]
    }
   ],
   "source": [
    "#diff_cols = cols_with_diff_vals(ds1, ds2)\n",
    "#diff_cols.columns = ['number_of_accounts_ds1', 'outstanding_balance_ds1', 'number_of_accounts_ds2', 'outstanding_balance_ds2']\n",
    "#print(diff_cols)"
   ]
  },
  {
   "cell_type": "code",
   "execution_count": 122,
   "id": "19104916-c8b1-4f42-836b-ad67bd0b5098",
   "metadata": {},
   "outputs": [
    {
     "name": "stdout",
     "output_type": "stream",
     "text": [
      "   number_of_accounts_ds1  outstanding_balance_ds1  number_of_accounts_ds2  \\\n",
      "2                 1245123                    1.785                 1245100   \n",
      "3                 1244200                    1.435                 1244227   \n",
      "\n",
      "   outstanding_balance_ds2  \n",
      "2                1785258.0  \n",
      "3                1435122.0  \n"
     ]
    }
   ],
   "source": [
    "#diff_rows = diff_cols[(diff_cols['number_of_accounts_ds1'] != diff_cols['number_of_accounts_ds2'])]\n",
    "#print(diff_rows)"
   ]
  },
  {
   "cell_type": "code",
   "execution_count": null,
   "id": "c4e9854a-e55d-48d4-8382-2949db90785b",
   "metadata": {},
   "outputs": [],
   "source": []
  }
 ],
 "metadata": {
  "kernelspec": {
   "display_name": "Python 3 (ipykernel)",
   "language": "python",
   "name": "python3"
  },
  "language_info": {
   "codemirror_mode": {
    "name": "ipython",
    "version": 3
   },
   "file_extension": ".py",
   "mimetype": "text/x-python",
   "name": "python",
   "nbconvert_exporter": "python",
   "pygments_lexer": "ipython3",
   "version": "3.12.2"
  }
 },
 "nbformat": 4,
 "nbformat_minor": 5
}
